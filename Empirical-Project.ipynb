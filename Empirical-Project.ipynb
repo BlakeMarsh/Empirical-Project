{
 "cells": [
  {
   "cell_type": "markdown",
   "id": "a64ae25f-78ec-4dc0-b921-bd5e0f874ed8",
   "metadata": {},
   "source": [
    "   The main question we are looking to answer in this project is the reasoning behind the difference in recent economic growth between the United States and China, specifically with regards to gross domestic product (GDP). According to The World Bank, from 2020 to 2021 China’s GDP rose from 14.69 trillion to 17.73 trillion with an 8.1% GDP growth, while the United States’ GDP rose from 20.89 trillion to 23 trillion with a 5.7% GDP growth. Our research goal is to identify the differences over the last century between the two countries that have caused China to become the economic power the world knows today."
   ]
  },
  {
   "cell_type": "markdown",
   "id": "95e56b73-ed67-45d0-9549-2714b7f86b8b",
   "metadata": {},
   "source": [
    "   This is an important question to answer because China’s growth has been very rapid and unchecked, affecting the global economy and global prices. It is important to know the reasons behind why China’s growth has been so rapid, to identify possible places in our country that could be more efficient with regards to growth so we can better compete with China. Some ideas we have on why China possibly could have had this rapid growth could be because of the cost of labor, or differences in importing and exporting, so we will take a deep dive into these topics to try and uncover the true reasoning to the overall rapid growth China has had and try and find a better way for the United States to compete with China."
   ]
  },
  {
   "cell_type": "markdown",
   "id": "4e27775f-c000-421f-aa39-c10d86a54dd2",
   "metadata": {},
   "source": [
    "   We will be using many different sources including information gathered from the World Bank and the University of Groningen to provide us the answer to this question. By using these resources, we plan on gathering an adequate amount of information to properly display what we think is causing this growth discrepancy between China and the United States. Specifically, we will be looking at various possible causes of this difference, such as imports versus exports, overall population, the labor market, labor market laws, and many more. This will allow us to identify all the different areas China is growing more rapidly than us, while also providing resources on where the United States is more advanced or where we need some more resources. We will then graph these different data sets, which will allow us to see the overall difference between the nations as well as the variance between the slopes of the curve to identify the growth rates of each country. Our next step will be to compare those two sources to fully identify the differences in GDP growth over the past century."
   ]
  },
  {
   "cell_type": "markdown",
   "id": "acc0cd75-17c3-47c1-ab6d-e1369a48c1b0",
   "metadata": {},
   "source": [
    "   We plan on using a research paper format for our project as it best fits how we are trying to display our findings. We also plan on using graphs with information gathered from our data and including a DAG into our project."
   ]
  },
  {
   "cell_type": "markdown",
   "id": "ca27400f-284c-459c-b712-d275d3b9c733",
   "metadata": {
    "tags": []
   },
   "source": [
    "   Our timeline for completion follows the class pace and due date. Over the next month we will gather data and analyze our findings in order to test our assumptions and accurately present our overall findings for the due date of October 23. We will then compile our analyses into a research paper and prepare to present our findings and analyses on November 28."
   ]
  }
 ],
 "metadata": {
  "kernelspec": {
   "display_name": "Python 3 (ipykernel)",
   "language": "python",
   "name": "python3"
  },
  "language_info": {
   "codemirror_mode": {
    "name": "ipython",
    "version": 3
   },
   "file_extension": ".py",
   "mimetype": "text/x-python",
   "name": "python",
   "nbconvert_exporter": "python",
   "pygments_lexer": "ipython3",
   "version": "3.9.13"
  }
 },
 "nbformat": 4,
 "nbformat_minor": 5
}
